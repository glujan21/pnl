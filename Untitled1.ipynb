{
  "nbformat": 4,
  "nbformat_minor": 0,
  "metadata": {
    "colab": {
      "name": "Untitled1.ipynb",
      "provenance": [],
      "authorship_tag": "ABX9TyM15EIfJVnIAAONkVzJxCl9",
      "include_colab_link": true
    },
    "kernelspec": {
      "name": "python3",
      "display_name": "Python 3"
    },
    "language_info": {
      "name": "python"
    }
  },
  "cells": [
    {
      "cell_type": "markdown",
      "metadata": {
        "id": "view-in-github",
        "colab_type": "text"
      },
      "source": [
        "<a href=\"https://colab.research.google.com/github/glujan21/pnl/blob/main/Untitled1.ipynb\" target=\"_parent\"><img src=\"https://colab.research.google.com/assets/colab-badge.svg\" alt=\"Open In Colab\"/></a>"
      ]
    },
    {
      "cell_type": "code",
      "metadata": {
        "colab": {
          "base_uri": "https://localhost:8080/"
        },
        "id": "sX10OC9Kt69n",
        "outputId": "eedb6f1a-181f-4260-d1d3-e718cff2de9a"
      },
      "source": [
        "!pip install textacy=='0.9.1'"
      ],
      "execution_count": 1,
      "outputs": [
        {
          "output_type": "stream",
          "name": "stdout",
          "text": [
            "Collecting textacy==0.9.1\n",
            "  Downloading textacy-0.9.1-py3-none-any.whl (203 kB)\n",
            "\u001b[?25l\r\u001b[K     |█▋                              | 10 kB 19.3 MB/s eta 0:00:01\r\u001b[K     |███▏                            | 20 kB 10.5 MB/s eta 0:00:01\r\u001b[K     |████▉                           | 30 kB 8.4 MB/s eta 0:00:01\r\u001b[K     |██████▍                         | 40 kB 7.6 MB/s eta 0:00:01\r\u001b[K     |████████                        | 51 kB 5.0 MB/s eta 0:00:01\r\u001b[K     |█████████▋                      | 61 kB 5.2 MB/s eta 0:00:01\r\u001b[K     |███████████▎                    | 71 kB 5.4 MB/s eta 0:00:01\r\u001b[K     |████████████▉                   | 81 kB 6.0 MB/s eta 0:00:01\r\u001b[K     |██████████████▌                 | 92 kB 4.7 MB/s eta 0:00:01\r\u001b[K     |████████████████                | 102 kB 5.1 MB/s eta 0:00:01\r\u001b[K     |█████████████████▊              | 112 kB 5.1 MB/s eta 0:00:01\r\u001b[K     |███████████████████▎            | 122 kB 5.1 MB/s eta 0:00:01\r\u001b[K     |█████████████████████           | 133 kB 5.1 MB/s eta 0:00:01\r\u001b[K     |██████████████████████▌         | 143 kB 5.1 MB/s eta 0:00:01\r\u001b[K     |████████████████████████▏       | 153 kB 5.1 MB/s eta 0:00:01\r\u001b[K     |█████████████████████████▊      | 163 kB 5.1 MB/s eta 0:00:01\r\u001b[K     |███████████████████████████▎    | 174 kB 5.1 MB/s eta 0:00:01\r\u001b[K     |█████████████████████████████   | 184 kB 5.1 MB/s eta 0:00:01\r\u001b[K     |██████████████████████████████▌ | 194 kB 5.1 MB/s eta 0:00:01\r\u001b[K     |████████████████████████████████| 203 kB 5.1 MB/s \n",
            "\u001b[?25hRequirement already satisfied: pyemd>=0.5.0 in /usr/local/lib/python3.7/dist-packages (from textacy==0.9.1) (0.5.1)\n",
            "Requirement already satisfied: spacy>=2.0.12 in /usr/local/lib/python3.7/dist-packages (from textacy==0.9.1) (2.2.4)\n",
            "Requirement already satisfied: tqdm>=4.19.6 in /usr/local/lib/python3.7/dist-packages (from textacy==0.9.1) (4.62.3)\n",
            "Requirement already satisfied: scikit-learn>=0.19.0 in /usr/local/lib/python3.7/dist-packages (from textacy==0.9.1) (0.22.2.post1)\n",
            "Requirement already satisfied: joblib>=0.13.0 in /usr/local/lib/python3.7/dist-packages (from textacy==0.9.1) (1.0.1)\n",
            "Requirement already satisfied: srsly>=0.0.5 in /usr/local/lib/python3.7/dist-packages (from textacy==0.9.1) (1.0.5)\n",
            "Requirement already satisfied: scipy>=0.17.0 in /usr/local/lib/python3.7/dist-packages (from textacy==0.9.1) (1.4.1)\n",
            "Requirement already satisfied: cachetools>=2.0.1 in /usr/local/lib/python3.7/dist-packages (from textacy==0.9.1) (4.2.4)\n",
            "Requirement already satisfied: networkx>=2.0 in /usr/local/lib/python3.7/dist-packages (from textacy==0.9.1) (2.6.3)\n",
            "Requirement already satisfied: requests>=2.10.0 in /usr/local/lib/python3.7/dist-packages (from textacy==0.9.1) (2.23.0)\n",
            "Requirement already satisfied: numpy>=1.17.0 in /usr/local/lib/python3.7/dist-packages (from textacy==0.9.1) (1.19.5)\n",
            "Collecting jellyfish>=0.7.0\n",
            "  Downloading jellyfish-0.8.9.tar.gz (137 kB)\n",
            "\u001b[K     |████████████████████████████████| 137 kB 54.6 MB/s \n",
            "\u001b[?25hCollecting cytoolz>=0.8.0\n",
            "  Downloading cytoolz-0.11.0-cp37-cp37m-manylinux_2_17_x86_64.manylinux2014_x86_64.whl (1.6 MB)\n",
            "\u001b[K     |████████████████████████████████| 1.6 MB 46.5 MB/s \n",
            "\u001b[?25hCollecting pyphen>=0.9.4\n",
            "  Downloading pyphen-0.11.0-py3-none-any.whl (2.0 MB)\n",
            "\u001b[K     |████████████████████████████████| 2.0 MB 51.9 MB/s \n",
            "\u001b[?25hRequirement already satisfied: toolz>=0.8.0 in /usr/local/lib/python3.7/dist-packages (from cytoolz>=0.8.0->textacy==0.9.1) (0.11.1)\n",
            "Requirement already satisfied: certifi>=2017.4.17 in /usr/local/lib/python3.7/dist-packages (from requests>=2.10.0->textacy==0.9.1) (2021.5.30)\n",
            "Requirement already satisfied: chardet<4,>=3.0.2 in /usr/local/lib/python3.7/dist-packages (from requests>=2.10.0->textacy==0.9.1) (3.0.4)\n",
            "Requirement already satisfied: urllib3!=1.25.0,!=1.25.1,<1.26,>=1.21.1 in /usr/local/lib/python3.7/dist-packages (from requests>=2.10.0->textacy==0.9.1) (1.24.3)\n",
            "Requirement already satisfied: idna<3,>=2.5 in /usr/local/lib/python3.7/dist-packages (from requests>=2.10.0->textacy==0.9.1) (2.10)\n",
            "Requirement already satisfied: plac<1.2.0,>=0.9.6 in /usr/local/lib/python3.7/dist-packages (from spacy>=2.0.12->textacy==0.9.1) (1.1.3)\n",
            "Requirement already satisfied: preshed<3.1.0,>=3.0.2 in /usr/local/lib/python3.7/dist-packages (from spacy>=2.0.12->textacy==0.9.1) (3.0.5)\n",
            "Requirement already satisfied: murmurhash<1.1.0,>=0.28.0 in /usr/local/lib/python3.7/dist-packages (from spacy>=2.0.12->textacy==0.9.1) (1.0.5)\n",
            "Requirement already satisfied: wasabi<1.1.0,>=0.4.0 in /usr/local/lib/python3.7/dist-packages (from spacy>=2.0.12->textacy==0.9.1) (0.8.2)\n",
            "Requirement already satisfied: setuptools in /usr/local/lib/python3.7/dist-packages (from spacy>=2.0.12->textacy==0.9.1) (57.4.0)\n",
            "Requirement already satisfied: thinc==7.4.0 in /usr/local/lib/python3.7/dist-packages (from spacy>=2.0.12->textacy==0.9.1) (7.4.0)\n",
            "Requirement already satisfied: blis<0.5.0,>=0.4.0 in /usr/local/lib/python3.7/dist-packages (from spacy>=2.0.12->textacy==0.9.1) (0.4.1)\n",
            "Requirement already satisfied: catalogue<1.1.0,>=0.0.7 in /usr/local/lib/python3.7/dist-packages (from spacy>=2.0.12->textacy==0.9.1) (1.0.0)\n",
            "Requirement already satisfied: cymem<2.1.0,>=2.0.2 in /usr/local/lib/python3.7/dist-packages (from spacy>=2.0.12->textacy==0.9.1) (2.0.5)\n",
            "Requirement already satisfied: importlib-metadata>=0.20 in /usr/local/lib/python3.7/dist-packages (from catalogue<1.1.0,>=0.0.7->spacy>=2.0.12->textacy==0.9.1) (4.8.1)\n",
            "Requirement already satisfied: zipp>=0.5 in /usr/local/lib/python3.7/dist-packages (from importlib-metadata>=0.20->catalogue<1.1.0,>=0.0.7->spacy>=2.0.12->textacy==0.9.1) (3.6.0)\n",
            "Requirement already satisfied: typing-extensions>=3.6.4 in /usr/local/lib/python3.7/dist-packages (from importlib-metadata>=0.20->catalogue<1.1.0,>=0.0.7->spacy>=2.0.12->textacy==0.9.1) (3.7.4.3)\n",
            "Building wheels for collected packages: jellyfish\n",
            "  Building wheel for jellyfish (setup.py) ... \u001b[?25l\u001b[?25hdone\n",
            "  Created wheel for jellyfish: filename=jellyfish-0.8.9-cp37-cp37m-linux_x86_64.whl size=73226 sha256=3af419b90dfccb369464bd4e677f612561917ca965f2d4eff4ad4b38ae57b92c\n",
            "  Stored in directory: /root/.cache/pip/wheels/32/a9/ef/5d8742e72deaf0d1de327a180d008c2c0299367581800ea73f\n",
            "Successfully built jellyfish\n",
            "Installing collected packages: pyphen, jellyfish, cytoolz, textacy\n",
            "Successfully installed cytoolz-0.11.0 jellyfish-0.8.9 pyphen-0.11.0 textacy-0.9.1\n"
          ]
        }
      ]
    },
    {
      "cell_type": "code",
      "metadata": {
        "id": "szvZVIVtugYJ"
      },
      "source": [
        "import pandas\n",
        "import numpy\n",
        "import matplotlib.pyplot as plt\n",
        "import textacy\n",
        "from textacy.datasets import Wikipedia\n",
        "from collections import Counter,defaultdict\n",
        "import warnings"
      ],
      "execution_count": 2,
      "outputs": []
    },
    {
      "cell_type": "code",
      "metadata": {
        "id": "6R9neiFzuj63"
      },
      "source": [
        "%matplotlib inline\n",
        "\n",
        "\n",
        "def leer_texto(text):\n",
        "    with open(text, 'r') as txt:\n",
        "        return txt.read()"
      ],
      "execution_count": 12,
      "outputs": []
    },
    {
      "cell_type": "code",
      "metadata": {
        "colab": {
          "base_uri": "https://localhost:8080/"
        },
        "id": "Bwr18BK4unJA",
        "outputId": "28d69e35-e376-47a9-e689-89cab06e9909"
      },
      "source": [
        "wp = Wikipedia(data_dir='/content/sample_data', lang='es', version='current')\n",
        "wp.download()"
      ],
      "execution_count": 5,
      "outputs": [
        {
          "output_type": "stream",
          "name": "stderr",
          "text": [
            "100%|██████████| 7.43G/7.43G [02:52<00:00, 43.0MB/s]\n"
          ]
        }
      ]
    },
    {
      "cell_type": "code",
      "metadata": {
        "colab": {
          "base_uri": "https://localhost:8080/"
        },
        "id": "snTFKjzawyh9",
        "outputId": "b35b7536-c01f-474f-b2d0-1eb3f84b259e"
      },
      "source": [
        "wp.info"
      ],
      "execution_count": 6,
      "outputs": [
        {
          "output_type": "execute_result",
          "data": {
            "text/plain": [
              "{'description': 'All pages for a given language- and version-specific Wikipedia site snapshot.',\n",
              " 'name': 'wikipedia',\n",
              " 'site_url': 'https://en.wikipedia.org/wiki/Main_Page'}"
            ]
          },
          "metadata": {},
          "execution_count": 6
        }
      ]
    },
    {
      "cell_type": "code",
      "metadata": {
        "colab": {
          "base_uri": "https://localhost:8080/"
        },
        "id": "4qZEDWWzw01c",
        "outputId": "c58d55c5-96a4-4e16-a7e6-54c84114f5d1"
      },
      "source": [
        "for text in wp.texts(min_len=1000,limit=2):\n",
        "  print(text[:375],'\\n')"
      ],
      "execution_count": 7,
      "outputs": [
        {
          "output_type": "stream",
          "name": "stdout",
          "text": [
            "La Salamanca es un lugar legendario que aparece en numerosas leyendas hispanoamericanas. Se trata de un antro donde brujas y demonios celebran sus aquelarres. En el origen de esta tradición confluyen la leyenda española de la Cueva de Salamanca .\n",
            "\n",
            "Solo puede encontrar la entrada aquel que conoce la palabra que hace visible la cueva. Esta leyenda se originó en zonas guaraní \n",
            "\n",
            "La fosa del codo (también llamada fosa cubital, sangría o sangradura) es un área anatómica del miembro superior. Superficialmente, ubicada en la parte medial del codo en la cara anterior, se ve como una depresión en la superficie anterior del codo. Profundamente, es un espacio con una cantidad variable de tejido subcutáneo, anterior a la porción distal del húmero y a la ar \n",
            "\n"
          ]
        }
      ]
    },
    {
      "cell_type": "code",
      "metadata": {
        "colab": {
          "base_uri": "https://localhost:8080/"
        },
        "id": "xdpMf5emxAr8",
        "outputId": "bec7fe00-17e7-4bb0-afaf-ce2ecf27f48a"
      },
      "source": [
        "\n",
        "# Detectando el idioma con taxtacy\n",
        "saludos = [\"Buenos días\", \"Hello\", \"Bonjour\", \"Guten Tag\", \"Buon giorno\", \"Bom dia\"]\n",
        "for saludo in saludos:\n",
        "    print(textacy.lang_utils.identify_lang(saludo))"
      ],
      "execution_count": 9,
      "outputs": [
        {
          "output_type": "stream",
          "name": "stdout",
          "text": [
            "es\n",
            "en\n",
            "fr\n",
            "da\n",
            "it\n",
            "pt\n"
          ]
        }
      ]
    },
    {
      "cell_type": "code",
      "metadata": {
        "colab": {
          "base_uri": "https://localhost:8080/"
        },
        "id": "tWyakEFuxK5K",
        "outputId": "f852a332-7fc2-4da7-817f-4d3e9057bfb8"
      },
      "source": [
        "\n",
        "# Cargando el modelo en español de spacy\n",
        "!python -m spacy download es\n",
        "nlp = textacy.load_spacy_lang('es')"
      ],
      "execution_count": 10,
      "outputs": [
        {
          "output_type": "stream",
          "name": "stdout",
          "text": [
            "Collecting es_core_news_sm==2.2.5\n",
            "  Downloading https://github.com/explosion/spacy-models/releases/download/es_core_news_sm-2.2.5/es_core_news_sm-2.2.5.tar.gz (16.2 MB)\n",
            "\u001b[K     |████████████████████████████████| 16.2 MB 3.5 MB/s \n",
            "\u001b[?25hRequirement already satisfied: spacy>=2.2.2 in /usr/local/lib/python3.7/dist-packages (from es_core_news_sm==2.2.5) (2.2.4)\n",
            "Requirement already satisfied: blis<0.5.0,>=0.4.0 in /usr/local/lib/python3.7/dist-packages (from spacy>=2.2.2->es_core_news_sm==2.2.5) (0.4.1)\n",
            "Requirement already satisfied: numpy>=1.15.0 in /usr/local/lib/python3.7/dist-packages (from spacy>=2.2.2->es_core_news_sm==2.2.5) (1.19.5)\n",
            "Requirement already satisfied: wasabi<1.1.0,>=0.4.0 in /usr/local/lib/python3.7/dist-packages (from spacy>=2.2.2->es_core_news_sm==2.2.5) (0.8.2)\n",
            "Requirement already satisfied: murmurhash<1.1.0,>=0.28.0 in /usr/local/lib/python3.7/dist-packages (from spacy>=2.2.2->es_core_news_sm==2.2.5) (1.0.5)\n",
            "Requirement already satisfied: preshed<3.1.0,>=3.0.2 in /usr/local/lib/python3.7/dist-packages (from spacy>=2.2.2->es_core_news_sm==2.2.5) (3.0.5)\n",
            "Requirement already satisfied: thinc==7.4.0 in /usr/local/lib/python3.7/dist-packages (from spacy>=2.2.2->es_core_news_sm==2.2.5) (7.4.0)\n",
            "Requirement already satisfied: srsly<1.1.0,>=1.0.2 in /usr/local/lib/python3.7/dist-packages (from spacy>=2.2.2->es_core_news_sm==2.2.5) (1.0.5)\n",
            "Requirement already satisfied: plac<1.2.0,>=0.9.6 in /usr/local/lib/python3.7/dist-packages (from spacy>=2.2.2->es_core_news_sm==2.2.5) (1.1.3)\n",
            "Requirement already satisfied: requests<3.0.0,>=2.13.0 in /usr/local/lib/python3.7/dist-packages (from spacy>=2.2.2->es_core_news_sm==2.2.5) (2.23.0)\n",
            "Requirement already satisfied: setuptools in /usr/local/lib/python3.7/dist-packages (from spacy>=2.2.2->es_core_news_sm==2.2.5) (57.4.0)\n",
            "Requirement already satisfied: cymem<2.1.0,>=2.0.2 in /usr/local/lib/python3.7/dist-packages (from spacy>=2.2.2->es_core_news_sm==2.2.5) (2.0.5)\n",
            "Requirement already satisfied: catalogue<1.1.0,>=0.0.7 in /usr/local/lib/python3.7/dist-packages (from spacy>=2.2.2->es_core_news_sm==2.2.5) (1.0.0)\n",
            "Requirement already satisfied: tqdm<5.0.0,>=4.38.0 in /usr/local/lib/python3.7/dist-packages (from spacy>=2.2.2->es_core_news_sm==2.2.5) (4.62.3)\n",
            "Requirement already satisfied: importlib-metadata>=0.20 in /usr/local/lib/python3.7/dist-packages (from catalogue<1.1.0,>=0.0.7->spacy>=2.2.2->es_core_news_sm==2.2.5) (4.8.1)\n",
            "Requirement already satisfied: typing-extensions>=3.6.4 in /usr/local/lib/python3.7/dist-packages (from importlib-metadata>=0.20->catalogue<1.1.0,>=0.0.7->spacy>=2.2.2->es_core_news_sm==2.2.5) (3.7.4.3)\n",
            "Requirement already satisfied: zipp>=0.5 in /usr/local/lib/python3.7/dist-packages (from importlib-metadata>=0.20->catalogue<1.1.0,>=0.0.7->spacy>=2.2.2->es_core_news_sm==2.2.5) (3.6.0)\n",
            "Requirement already satisfied: chardet<4,>=3.0.2 in /usr/local/lib/python3.7/dist-packages (from requests<3.0.0,>=2.13.0->spacy>=2.2.2->es_core_news_sm==2.2.5) (3.0.4)\n",
            "Requirement already satisfied: idna<3,>=2.5 in /usr/local/lib/python3.7/dist-packages (from requests<3.0.0,>=2.13.0->spacy>=2.2.2->es_core_news_sm==2.2.5) (2.10)\n",
            "Requirement already satisfied: urllib3!=1.25.0,!=1.25.1,<1.26,>=1.21.1 in /usr/local/lib/python3.7/dist-packages (from requests<3.0.0,>=2.13.0->spacy>=2.2.2->es_core_news_sm==2.2.5) (1.24.3)\n",
            "Requirement already satisfied: certifi>=2017.4.17 in /usr/local/lib/python3.7/dist-packages (from requests<3.0.0,>=2.13.0->spacy>=2.2.2->es_core_news_sm==2.2.5) (2021.5.30)\n",
            "Building wheels for collected packages: es-core-news-sm\n",
            "  Building wheel for es-core-news-sm (setup.py) ... \u001b[?25l\u001b[?25hdone\n",
            "  Created wheel for es-core-news-sm: filename=es_core_news_sm-2.2.5-py3-none-any.whl size=16172933 sha256=9bda121619aed77a596232a4d38f81f6bd4133ff0c9fcde5e5c46f2aa2da683c\n",
            "  Stored in directory: /tmp/pip-ephem-wheel-cache-h0opfe6f/wheels/21/8d/a9/6c1a2809c55dd22cd9644ae503a52ba6206b04aa57ba83a3d8\n",
            "Successfully built es-core-news-sm\n",
            "Installing collected packages: es-core-news-sm\n",
            "Successfully installed es-core-news-sm-2.2.5\n",
            "\u001b[38;5;2m✔ Download and installation successful\u001b[0m\n",
            "You can now load the model via spacy.load('es_core_news_sm')\n",
            "\u001b[38;5;2m✔ Linking successful\u001b[0m\n",
            "/usr/local/lib/python3.7/dist-packages/es_core_news_sm -->\n",
            "/usr/local/lib/python3.7/dist-packages/spacy/data/es\n",
            "You can now load the model via spacy.load('es')\n"
          ]
        }
      ]
    },
    {
      "cell_type": "code",
      "metadata": {
        "id": "szknJgyAxPxk"
      },
      "source": [
        "texto = leer_texto('/content/sample_data/ORWELL_1984.txt')\n",
        "texto_procesado = nlp(texto)"
      ],
      "execution_count": 15,
      "outputs": []
    },
    {
      "cell_type": "code",
      "metadata": {
        "colab": {
          "base_uri": "https://localhost:8080/"
        },
        "id": "wVHJFdGvyPpF",
        "outputId": "14a7b816-390c-4d05-f017-eda47ab5f346"
      },
      "source": [
        "sentencias = [s for s in texto_procesado.sents]\n",
        "print(len(sentencias))"
      ],
      "execution_count": 16,
      "outputs": [
        {
          "output_type": "stream",
          "name": "stdout",
          "text": [
            "8\n"
          ]
        }
      ]
    },
    {
      "cell_type": "code",
      "metadata": {
        "colab": {
          "base_uri": "https://localhost:8080/"
        },
        "id": "H3lcNNUDySda",
        "outputId": "652a0270-5c0e-44fb-8b5e-4ab228fb6fbe"
      },
      "source": [
        "print(sentencias[1:])"
      ],
      "execution_count": 17,
      "outputs": [
        {
          "output_type": "stream",
          "name": "stdout",
          "text": [
            "[, Al fondo, un cartel de colores, demasiado grande para hallarse en un interior, estaba pegado a la pared., , Representaba sólo un enorme rostro de más de un metro de anchura: la cara de un hombre de unos cuarenta y cinco años con un gran bigote negro y facciones hermosas y endurecidas., , Winston se dirigió hacia las escaleras., , Era inútil intentar subir en el ascensor., , No funcionaba con frecuencia y en esta época la corriente se cortaba durante las horas de día., , Esto era parte de las restricciones con que se preparaba la Semana del Odio., , Winston tenía que subir a un séptimo piso]\n"
          ]
        }
      ]
    },
    {
      "cell_type": "code",
      "metadata": {
        "colab": {
          "base_uri": "https://localhost:8080/"
        },
        "id": "hBqBw4czyYK6",
        "outputId": "b66903d0-eae8-46b5-85d3-a6d0b906078e"
      },
      "source": [
        "# sentencias con las que aparece el Gran Hermano\n",
        "[sent for sent in texto_procesado.sents if 'cartel' in sent.string][-10:]"
      ],
      "execution_count": 19,
      "outputs": [
        {
          "output_type": "execute_result",
          "data": {
            "text/plain": [
              "[, Al fondo, un cartel de colores, demasiado grande para hallarse en un interior, estaba pegado a la pared.]"
            ]
          },
          "metadata": {},
          "execution_count": 19
        }
      ]
    },
    {
      "cell_type": "code",
      "metadata": {
        "id": "ql5oekjCylTi"
      },
      "source": [
        "def encontrar_personajes(doc):\n",
        "  personajes = Counter()\n",
        "  for ent in doc.ents:\n",
        "    if ent.label_ == 'PERSON':\n",
        "      personajes[ent.lemma] += 1\n",
        "  return personajes.most_common()\n"
      ],
      "execution_count": 20,
      "outputs": []
    },
    {
      "cell_type": "code",
      "metadata": {
        "colab": {
          "base_uri": "https://localhost:8080/"
        },
        "id": "60lO3526y47j",
        "outputId": "42dc5748-4637-4a89-958d-71b1c186a766"
      },
      "source": [
        "print(encontrar_personajes(texto_procesado)[1:])"
      ],
      "execution_count": 22,
      "outputs": [
        {
          "output_type": "stream",
          "name": "stdout",
          "text": [
            "[]\n"
          ]
        }
      ]
    },
    {
      "cell_type": "code",
      "metadata": {
        "id": "WTkUJe5uzOij"
      },
      "source": [
        "def obtener_adj_pers(doc, personaje):\n",
        "    \"\"\"\n",
        "    Encontrar todos los adjetivos relacionados a un personaje en un `doc`\n",
        "    \n",
        "    :param doc: NLP documento parseado por Spacy\n",
        "    :param personaje: un objeto String \n",
        "    :return: lista de adjetivos relacionados a un `personaje`\n",
        "    \"\"\"\n",
        "    \n",
        "    adjetivos = []\n",
        "    for ent in doc.ents:\n",
        "        if ent.lemma_ == personaje:\n",
        "            for token in ent.subtree:\n",
        "                if token.pos_ == 'ADJ':\n",
        "                    adjetivos.append(token.lemma_)\n",
        "    \n",
        "    for ent in doc.ents:\n",
        "        if ent.lemma_ == personaje:\n",
        "            if ent.root.dep_ == 'nsubj':\n",
        "                for child in ent.root.head.children:\n",
        "                    if child.dep_ == 'acomp':\n",
        "                        adjetivos.append(child.lemma_)\n",
        "    \n",
        "    return adjetivos"
      ],
      "execution_count": 23,
      "outputs": []
    },
    {
      "cell_type": "code",
      "metadata": {
        "colab": {
          "base_uri": "https://localhost:8080/"
        },
        "id": "xvWnxCv4zRCi",
        "outputId": "e874c7f8-c3d8-4154-d40d-0f1a2b33bb6e"
      },
      "source": [
        "print(obtener_adj_pers(texto_procesado, \"winston\"))"
      ],
      "execution_count": 25,
      "outputs": [
        {
          "output_type": "stream",
          "name": "stdout",
          "text": [
            "[]\n"
          ]
        }
      ]
    }
  ]
}